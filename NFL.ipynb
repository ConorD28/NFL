{
  "cells": [
    {
      "cell_type": "code",
      "execution_count": null,
      "metadata": {
        "id": "Rq6xsPJUvkXO"
      },
      "outputs": [],
      "source": [
        "import pandas as pd\n",
        "import seaborn as sns\n",
        "import numpy as np\n",
        "import matplotlib.pyplot as plt\n",
        "import math\n",
        "from sklearn.decomposition import PCA\n",
        "%matplotlib inline\n",
        "df = pd.read_csv('NFL Upload.csv')\n",
        "df_NP = df.drop(columns=df.columns[-24:], axis=1) #get rid of playoff stats except experience\n",
        "\n",
        "df_22 = df_NP.dropna(axis=1, how='any') #drop columns with NA values for df_NP\n",
        "df_20 = df_NP.drop(df_NP.head(2).index) #drop 1st 2 rows\n",
        "df_20 = df_20.dropna(axis=1, how='any') #drop columns with NA values for df_20\n",
        "\n",
        "df_20_P = df.drop(df.head(2).index) #data frame with playoffs and 1st 2 rows dropped"
      ]
    },
    {
      "cell_type": "code",
      "source": [
        "df_22.isnull().sum().sum() #Check if there are NA values"
      ],
      "metadata": {
        "id": "C8PEra5HfdD4"
      },
      "execution_count": null,
      "outputs": []
    },
    {
      "cell_type": "code",
      "source": [
        "df_20.isnull().sum().sum() #Check if there are NA values"
      ],
      "metadata": {
        "id": "FE8g56GGgd5j"
      },
      "execution_count": null,
      "outputs": []
    },
    {
      "cell_type": "code",
      "execution_count": null,
      "metadata": {
        "id": "2LtJLaEVvqfY"
      },
      "outputs": [],
      "source": [
        "import scipy.stats\n",
        "def correlation(dataset, threshold, target): #Function to get Pearson's correlation between input and target\n",
        "  data = []\n",
        "  for i in range(len(dataset.columns)):\n",
        "      cor2 = dataset.iloc[:,i].corr(target) #scipy.stats.spearmanr(x, y)[0] and scipy.stats.kendalltau(x, y)[0]\n",
        "      column_headers = list(dataset.columns.values)\n",
        "      if(abs(cor2) > threshold):\n",
        "        data.append(dataset.iloc[:,i]) #make list of columns that meet the threshold\n",
        "      i = i + 1\n",
        "  return data"
      ]
    },
    {
      "cell_type": "code",
      "execution_count": null,
      "metadata": {
        "id": "ngjdaqWIvssV"
      },
      "outputs": [],
      "source": [
        "from sklearn.model_selection import train_test_split\n",
        "from numpy.random.mtrand import random_sample\n",
        "from sklearn.preprocessing import StandardScaler\n",
        "from sklearn.pipeline import make_pipeline\n",
        "from sklearn.model_selection import train_test_split\n",
        "from sklearn.linear_model import LinearRegression, Ridge, RidgeCV, Lasso, LassoCV, ElasticNet, ElasticNetCV, MultiTaskLassoCV\n",
        "from sklearn.metrics import mean_squared_error, mean_absolute_error"
      ]
    },
    {
      "cell_type": "code",
      "execution_count": null,
      "metadata": {
        "id": "C5q3JY8L1e1M"
      },
      "outputs": [],
      "source": [
        "def Scores(y, y_pred, y_full):\n",
        "  MSE = mean_squared_error(y, y_pred)\n",
        "  MAE = mean_absolute_error(y, y_pred)\n",
        "  Normalized_RMSE = (np.sqrt(MSE)/np.mean(y_full))*100\n",
        "  Normalized_MAE = (MAE/np.mean(y_full))*100\n",
        "  Avg_Normalized_Score = (Normalized_RMSE + Normalized_MAE)/2\n",
        "  print(f'Avg. Normalized Score:{ Avg_Normalized_Score:.1f}%')\n",
        "  print(f'Normalized RMSE:{ Normalized_RMSE:.1f}%')\n",
        "  print(f'Normalized MAE:{ Normalized_MAE:.2f}%')\n",
        "  #print(f'MAE:{ MAE:.3f}')\n",
        "  #print(f'RMSE:{ np.sqrt(MSE):.3f}')\n",
        "  return Avg_Normalized_Score"
      ]
    },
    {
      "cell_type": "code",
      "execution_count": null,
      "metadata": {
        "id": "zLVl7ooxvt7q"
      },
      "outputs": [],
      "source": [
        "def RLE_Model(X, y, choice, predict_df): #Function to run Ridge, Lasso, or ElasticNet model\n",
        "  X_train, X_test, y_train, y_test = train_test_split(X, y, test_size=0.30, random_state=0) #Train/Test\n",
        "\n",
        "  if(choice==\"Ridge\"):\n",
        "    alphas = np.geomspace(1e-10, 1e10, num=100)\n",
        "    pipeline = make_pipeline(RidgeCV(alphas=alphas))\n",
        "    pipeline.fit(X_train, y_train)\n",
        "\n",
        "  if(choice==\"Lasso\"):\n",
        "    alphas = np.geomspace(1e-10, 1e10, num=100)\n",
        "    pipeline = make_pipeline(LassoCV(alphas=alphas))\n",
        "    pipeline.fit(X_train, y_train)\n",
        "\n",
        "  if(choice==\"Elastic\"):\n",
        "    l1_ratio = [0, 0.3, 0.5, 0.7, 0.9, 1]\n",
        "    alphas = np.geomspace(1e-10, 1e10, num=100)\n",
        "    pipeline = make_pipeline(ElasticNetCV(alphas=alphas, l1_ratio=l1_ratio, max_iter=100000))\n",
        "    pipeline.fit(X_train, y_train)\n",
        "\n",
        "  #print(f'Chosen alpha  {pipeline.steps[0][1].alpha_:.6f}')\n",
        "  #print(f'Intercept (b) {pipeline.steps[0][1].intercept_:.6f}')\n",
        "  #print(pd.Series(pipeline.steps[0][1].coef_, index=X.columns),'\\n')\n",
        "\n",
        "  #Calculate the predicted values:\n",
        "  y_train_pred = pipeline.predict(X_train)\n",
        "  print(y_train_pred)\n",
        "  print()\n",
        "\n",
        "  y_test_pred = pipeline.predict(X_test)\n",
        "\n",
        "  #Training Scores:\n",
        "  Avg_N_Score_train = Scores(y_train, y_train_pred, y)\n",
        "  print()\n",
        "\n",
        "  #Test Predictions:\n",
        "  print(\"Test predictions:\")\n",
        "  #print(y_test_pred)\n",
        "  print()\n",
        "\n",
        "  #Testing Scores:\n",
        "  Avg_N_Score_test = Scores(y_test, y_test_pred, y)\n",
        "  print(f'Difference of avg scores:{ Avg_N_Score_test - Avg_N_Score_train:.3f}%') #Difference between testing and traing scores to check if my bias-variance tradeoff is good\n",
        "  print()\n",
        "\n",
        "  final_predictions = pipeline.predict(predict_df)\n",
        "\n",
        "  return y_train_pred, y_test_pred, final_predictions"
      ]
    },
    {
      "cell_type": "code",
      "execution_count": null,
      "metadata": {
        "id": "FpU87Mgvvx0s"
      },
      "outputs": [],
      "source": [
        "from sklearn.datasets import make_regression\n",
        "from sklearn.ensemble import GradientBoostingRegressor\n",
        "from sklearn.model_selection import train_test_split\n",
        "\n",
        "def GBR_model(X,y, t, l, n, predict_df):\n",
        "  X_train, X_test, y_train, y_test = train_test_split(X, y, test_size=0.30, random_state=0)\n",
        "  reg = GradientBoostingRegressor(tol = t, learning_rate = l, n_estimators=n, random_state=0) #default: tol = 0.0001, learning rate - 0.1, 100, friedman_mse\n",
        "  reg.fit(X_train, y_train)\n",
        "  y_train_pred = reg.predict(X_train)\n",
        "  #print(y_train_pred)\n",
        "\n",
        "  y_test_pred = reg.predict(X_test)\n",
        "\n",
        "  #Training Scores:\n",
        "  Avg_N_Score_train = Scores(y_train, y_train_pred, y)\n",
        "  print()\n",
        "\n",
        "  #Predictions:\n",
        "  print(\"Test predictions:\")\n",
        "  #print(y_test_pred)\n",
        "  print()\n",
        "\n",
        "  #Testing Scores:\n",
        "  Avg_N_Score_test = Scores(y_test, y_test_pred, y)\n",
        "  print(f'Difference of avg scores:{ Avg_N_Score_test - Avg_N_Score_train:.3f}%') #Difference between testing and traing scores to check if my bias-variance tradeoff is good\n",
        "  print()\n",
        "\n",
        "  #Predict:\n",
        "  predictions = reg.predict(predict_df)\n",
        "  print(predictions)"
      ]
    },
    {
      "cell_type": "code",
      "source": [
        "from sklearn.ensemble import BaggingRegressor\n",
        "import xgboost as xgb\n",
        "\n",
        "def BR_model(X,y, predict_df):\n",
        "  X_train, X_test, y_train, y_test = train_test_split(X, y, test_size=0.30, random_state=0)\n",
        "  reg = BaggingRegressor(base_estimator=xgb.XGBRegressor())\n",
        "  reg.fit(X_train, y_train)\n",
        "  y_train_pred = reg.predict(X_train)\n",
        "  #print(y_train_pred)\n",
        "\n",
        "  y_test_pred = reg.predict(X_test)\n",
        "\n",
        "  #Training Scores:\n",
        "  Avg_N_Score_train = Scores(y_train, y_train_pred, y)\n",
        "  print()\n",
        "\n",
        "  #Predictions:\n",
        "  print(\"Test predictions:\")\n",
        "  #print(y_test_pred)\n",
        "  print()\n",
        "\n",
        "  #Testing Scores:\n",
        "  Avg_N_Score_test = Scores(y_test, y_test_pred, y)\n",
        "  print(f'Difference of avg scores:{ Avg_N_Score_test - Avg_N_Score_train:.3f}%') #Difference between testing and traing scores to check if my bias-variance tradeoff is good\n",
        "  print()\n",
        "\n",
        "  #Predict:\n",
        "  predictions = reg.predict(predict_df)\n",
        "  print(predictions)"
      ],
      "metadata": {
        "id": "ppib1skHfgGk"
      },
      "execution_count": null,
      "outputs": []
    },
    {
      "cell_type": "code",
      "execution_count": null,
      "metadata": {
        "id": "XfM5w0Ncvynu"
      },
      "outputs": [],
      "source": [
        "from sklearn.linear_model import SGDRegressor\n",
        "from sklearn.pipeline import make_pipeline\n",
        "from sklearn.preprocessing import StandardScaler\n",
        "#SGD Regressor:\n",
        "def SGD_model(X,y, t, ep, predict_df):\n",
        "\n",
        "  reg = make_pipeline(SGDRegressor(max_iter=1000, tol=t, epsilon = ep)) #tol = 0.001, epsilon=0.1\n",
        "  X_train, X_test, y_train, y_test = train_test_split(X, y, test_size=0.30, random_state=0)\n",
        "  reg.fit(X_train, y_train)\n",
        "  y_train_pred = reg.predict(X_train)\n",
        "  #print(y_train_pred)\n",
        "\n",
        "  y_test_pred = reg.predict(X_test)\n",
        "\n",
        "  #Training Scores:\n",
        "  Avg_N_Score_train = Scores(y_train, y_train_pred, y)\n",
        "  print()\n",
        "\n",
        "  #Predictions:\n",
        "  print(\"Test predictions:\")\n",
        "  #print(y_test_pred)\n",
        "  #print()\n",
        "\n",
        "  #Testing Scores:\n",
        "  Avg_N_Score_test = Scores(y_test, y_test_pred, y)\n",
        "  print(f'Difference of avg scores:{ Avg_N_Score_test - Avg_N_Score_train:.3f}%') #Difference between testing and traing scores to check if my bias-variance tradeoff is good\n",
        "  print()\n",
        "\n",
        "  final_predictions = reg.predict(predict_df)\n",
        "  print(final_predictions)\n",
        "\n",
        "  return y_train_pred, y_test_pred, final_predictions"
      ]
    },
    {
      "cell_type": "code",
      "source": [
        "#Keras Sequential Neural Net\n",
        "import tensorflow\n",
        "from tensorflow.keras.models import Sequential\n",
        "from tensorflow.keras.layers import Dense, Activation\n",
        "from tensorflow.keras.callbacks import EarlyStopping\n",
        "early_stop = EarlyStopping(monitor='loss', mode='min', verbose=1, patience=2)\n",
        "\n",
        "def Keras_model(X,y, e, u, u2, u3, u4, u5):\n",
        "  X_train, X_test, y_train, y_test = train_test_split(X, y, test_size=0.30, random_state=42)\n",
        "  model = Sequential()\n",
        "  model.add(Dense(u, input_dim=X_train.shape[1], activation='relu')) # Hidden 1, 60\n",
        "  model.add(Dense(units=u2,activation='relu')) # Hidden 2, 30\n",
        "  model.add(Dense(units=u3,activation='relu'))\n",
        "  model.add(Dense(units=u4,activation='relu'))\n",
        "  model.add(Dense(units=u5,activation='relu'))\n",
        "  model.add(Dense(units=15,activation='relu')) #15\n",
        "  model.add(Dense(units=1)) #,activation='relu'\n",
        "  model.compile(loss='mean_squared_error', optimizer='nadam') #adam, nadam; adamax\n",
        "  m1 = model.fit(X_train, y_train, verbose=0, epochs=e, callbacks=[early_stop]); #callbacks=[early_stop]\n",
        "\n",
        "  y_train_pred = model.predict(X_train)\n",
        "  #print(y_train_pred)\n",
        "\n",
        "  y_test_pred = model.predict(X_test)\n",
        "\n",
        "  #Training Scores:\n",
        "  Avg_N_Score_train = Scores(y_train, y_train_pred, y)\n",
        "  print()\n",
        "\n",
        "  #Predictions:\n",
        "  print(\"Test predictions:\")\n",
        "  #print(y_test_pred)\n",
        "  #print()\n",
        "\n",
        "  #Testing Scores:\n",
        "  Avg_N_Score_test = Scores(y_test, y_test_pred, y)\n",
        "  print(f'Difference of avg scores:{ Avg_N_Score_test - Avg_N_Score_train:.3f}%') #Difference between testing and traing scores to check if my bias-variance tradeoff is good\n",
        "  print()\n",
        "\n",
        "  model.save('/content/drive/MyDrive/Models/myModel10', save_format=\"h5\")"
      ],
      "metadata": {
        "id": "Zzt-o4jPgtdH"
      },
      "execution_count": null,
      "outputs": []
    },
    {
      "cell_type": "code",
      "source": [
        "from sklearn.tree import DecisionTreeRegressor\n",
        "\n",
        "def DTR_model(X,y,leafs):\n",
        "  X_train, X_test, y_train, y_test = train_test_split(X, y, test_size=0.30, random_state=0)\n",
        "  # We introduce regularization by increasing the value of min_samples_leaf\n",
        "  tree_reg_regularized = DecisionTreeRegressor(random_state=42, min_samples_leaf=leafs)\n",
        "  tree_reg_regularized.fit(X_train, y_train)\n",
        "  y_train_pred = tree_reg_regularized.predict(X_train) #_regularized\n",
        "  print(y_train_pred)\n",
        "\n",
        "  y_test_pred = tree_reg_regularized.predict(X_test) #_regularized\n",
        "\n",
        "  #Training Scores:\n",
        "  Avg_N_Score_train = Scores(y_train, y_train_pred, y)\n",
        "  print()\n",
        "\n",
        "  #Predictions:\n",
        "  print(\"Test predictions:\")\n",
        "  #print(y_test_pred)\n",
        "  print()\n",
        "\n",
        "  #Testing Scores:\n",
        "  Avg_N_Score_test = Scores(y_test, y_test_pred, y)\n",
        "  print(f'Difference of avg scores:{ Avg_N_Score_test - Avg_N_Score_train:.3f}%') #Difference between testing and traing scores to check if my bias-variance tradeoff is good\n",
        "  print()"
      ],
      "metadata": {
        "id": "sOg9t7czmLFe"
      },
      "execution_count": null,
      "outputs": []
    },
    {
      "cell_type": "code",
      "source": [
        "from sklearn.svm import LinearSVR\n",
        "\n",
        "def SVM_model(X,y,ep):\n",
        "  X_train, X_test, y_train, y_test = train_test_split(X, y, test_size=0.30, random_state=0)\n",
        "  svm_reg = LinearSVR(epsilon=ep, random_state=42) #default: epsilon = 0, C=1.0\n",
        "  svm_reg.fit(X_train, y_train)\n",
        "\n",
        "  #Train Predictions:\n",
        "  y_train_pred = svm_reg.predict(X_train)\n",
        "  print(y_train_pred)\n",
        "\n",
        "  #Training Scores:\n",
        "  Avg_N_Score_train = Scores(y_train, y_train_pred, y)\n",
        "  print()\n",
        "\n",
        "  #Test Predictions:\n",
        "  y_test_pred = svm_reg.predict(X_test)\n",
        "  print(\"Test predictions:\")\n",
        "  #print(y_test_pred)\n",
        "  print()\n",
        "\n",
        "  #Testing Scores:\n",
        "  Avg_N_Score_test = Scores(y_test, y_test_pred, y)\n",
        "  print(f'Difference of avg scores:{ Avg_N_Score_test - Avg_N_Score_train:.3f}%') #Difference between testing and traing scores to check if my bias-variance tradeoff is good\n",
        "  print()"
      ],
      "metadata": {
        "id": "luksQpOa9mx6"
      },
      "execution_count": null,
      "outputs": []
    },
    {
      "cell_type": "code",
      "source": [
        "from sklearn.svm import SVR\n",
        "\n",
        "def SVM_rbf_model(X,y, choice, ep, C_value, predict_df):\n",
        "  X_train, X_test, y_train, y_test = train_test_split(X, y, test_size=0.30, random_state=0)\n",
        "\n",
        "  if(choice==\"rbf\"):\n",
        "    model = SVR(kernel=\"rbf\", C=C_value, gamma=0.1, epsilon=ep) #0.1 default ep; 100 default C, 0.1 default gamma\n",
        "    model.fit(X_train, y_train)\n",
        "\n",
        "  if(choice==\"poly\"):\n",
        "    model = SVR(kernel=\"poly\", C=C_value, gamma=\"auto\", degree=3, epsilon=ep, coef0=1) #0.1 default ep; 100 default C\n",
        "    model.fit(X_train, y_train)\n",
        "\n",
        "  #Train Predictions:\n",
        "  y_train_pred = model.predict(X_train)\n",
        "  print(y_train_pred)\n",
        "\n",
        "  #Training Scores:\n",
        "  Avg_N_Score_train = Scores(y_train, y_train_pred, y)\n",
        "  print()\n",
        "\n",
        "  #Test Predictions:\n",
        "  y_test_pred = model.predict(X_test)\n",
        "  print(\"Test predictions:\")\n",
        "  #print(y_test_pred)\n",
        "  print()\n",
        "\n",
        "  #Testing Scores:\n",
        "  Avg_N_Score_test = Scores(y_test, y_test_pred, y)\n",
        "  print(f'Difference of avg scores:{ Avg_N_Score_test - Avg_N_Score_train:.3f}%') #Difference between testing and traing scores to check if my bias-variance tradeoff is good\n",
        "  print()\n",
        "\n",
        "  final_preds = model.predict(predict_df)\n",
        "\n",
        "  return y_train_pred, y_test_pred, final_preds"
      ],
      "metadata": {
        "id": "1ms2SSQ_3ncH"
      },
      "execution_count": null,
      "outputs": []
    },
    {
      "cell_type": "code",
      "source": [
        "from sklearn.datasets import make_swiss_roll\n",
        "from sklearn.manifold import LocallyLinearEmbedding"
      ],
      "metadata": {
        "id": "UhxkZpeNTZA7"
      },
      "execution_count": null,
      "outputs": []
    },
    {
      "cell_type": "code",
      "source": [
        "#Scale:\n",
        "scaler = StandardScaler()\n",
        "data_scaled = pd.DataFrame(scaler.fit_transform(df_22), columns = df_22.columns)\n",
        "\n",
        "#Get Predictors:\n",
        "data_correlated = correlation(data_scaled, .48, df[\"oPoints/oAtt_Playoffs\"])\n",
        "data_correlated_df = pd.DataFrame(data_correlated)\n",
        "data_correlated_df2 = data_correlated_df.transpose() #Correlated inputs\n",
        "pca=PCA(n_components = 14)\n",
        "data_PCA = pca.fit_transform(data_correlated_df2) #PCA inputs\n",
        "lle = LocallyLinearEmbedding(n_components=2, n_neighbors=13, random_state=42) #n_components=2 is default, neighbors 5 is default (can do up to 13)\n",
        "X_unrolled = lle.fit_transform(data_correlated_df2)\n",
        "dfLLE = pd.DataFrame(X_unrolled)\n",
        "print(\"Principal axes:\\n\", pca.components_.tolist())\n",
        "print(\"Explained variance:\\n\", pca.explained_variance_.tolist())\n",
        "print(\"Mean:\", pca.mean_)\n",
        "X = dfLLE #try data_correlated_df2, data_PCA, or dfLLE\n",
        "y = df[\"oPoints/oAtt_Playoffs\"]"
      ],
      "metadata": {
        "id": "Z0RXs3FQMoHz"
      },
      "execution_count": null,
      "outputs": []
    },
    {
      "cell_type": "code",
      "source": [
        "#Predict PPG:\n",
        "#PPG Blender:\n",
        "predict =  pd.read_csv('NFL PPG_Upload.csv')\n",
        "\n",
        "X_train, X_test, y_train, y_test = train_test_split(X, y, test_size=0.30, random_state=0)\n",
        "#print(data_correlated_df2.columns)\n",
        "print()\n",
        "predict_unrolled = lle.fit_transform(predict)\n",
        "predict_LLE = pd.DataFrame(predict_unrolled)\n",
        "preds = RLE_Model(X, y, \"Lasso\", predict_LLE)\n",
        "preds2 = SVM_rbf_model(X, y, \"poly\", .1, 200, predict_LLE)\n",
        "\n",
        "#Get stats on blender\n",
        "final_train_preds = (preds[0] + preds2[0])/2\n",
        "final_test_preds = (preds[1] + preds2[1])/2 #7.2%. 3.6%\n",
        "final_preds = (preds[2] + preds2[2])/2\n",
        "print(\"Blender test predictions:\")\n",
        "print(final_test_preds)\n",
        "print()\n",
        "print(\"Blender Train Scores then Test Scores:\")\n",
        "Scores(y_train, final_train_preds, y)\n",
        "print()\n",
        "Scores(y_test, final_test_preds, y)\n",
        "print(\"Final Predictions:\")\n",
        "print(final_preds)"
      ],
      "metadata": {
        "id": "mJsAAAmYZXJ8"
      },
      "execution_count": null,
      "outputs": []
    },
    {
      "cell_type": "code",
      "source": [
        "#Predict Points/Att:\n",
        "#Points/Att Blender:\n",
        "predict =  pd.read_csv('NFL Points Per Att.csv')\n",
        "\n",
        "X_train, X_test, y_train, y_test = train_test_split(X, y, test_size=0.30, random_state=0)\n",
        "print(data_correlated_df2.columns)\n",
        "print()\n",
        "predict_unrolled = lle.fit_transform(predict)\n",
        "predict_LLE = pd.DataFrame(predict_unrolled)\n",
        "preds = RLE_Model(X, y, \"Lasso\", predict_LLE)\n",
        "preds2 = SVM_rbf_model(X, y, \"rbf\", .1, 100, predict_LLE)\n",
        "preds3 = SVM_rbf_model(X, y, \"poly\", .1, 100, predict_LLE)\n",
        "\n",
        "#Get stats on blender\n",
        "final_train_preds = (preds[0] + preds2[0] + preds3[0])/3\n",
        "final_test_preds = (preds[1] + preds2[1] + preds3[1])/3 #11.3%, -1%\n",
        "final_preds = (preds[2] + preds2[2])/2\n",
        "print(\"Blender test predictions:\")\n",
        "print(final_test_preds)\n",
        "print()\n",
        "print(\"Blender Train Scores then Test Scores:\")\n",
        "Scores(y_train, final_train_preds, y)\n",
        "print()\n",
        "Scores(y_test, final_test_preds, y)\n",
        "print(\"Final Predictions:\")\n",
        "print(final_preds)"
      ],
      "metadata": {
        "id": "wOUkIOSrMXV7"
      },
      "execution_count": null,
      "outputs": []
    },
    {
      "cell_type": "code",
      "source": [
        "#Predict oPPG:\n",
        "predict =  pd.read_csv('NFL oPPG.csv')\n",
        "\n",
        "#use SGD_model(X,y, 1e-3, .1) #dfLLE, .51\n",
        "\n",
        "predict_unrolled = lle.fit_transform(predict)\n",
        "predict_LLE = pd.DataFrame(predict_unrolled)\n",
        "final_preds = SGD_model(X,y, 1e-2, 0.1, predict_LLE)\n",
        "print(\"Final Predictions are\")\n",
        "print(final_preds[2])"
      ],
      "metadata": {
        "id": "hhM9nyPxwRrH"
      },
      "execution_count": null,
      "outputs": []
    },
    {
      "cell_type": "code",
      "source": [
        "#Predict oPoints/oAtt:\n",
        "predict =  pd.read_csv('oPoints Per oAtt.csv')\n",
        "predict2 = predict.drop(df_NP.tail(8).index)\n",
        "\n",
        "predict_unrolled = lle.fit_transform(predict2)\n",
        "predict_LLE = pd.DataFrame(predict_unrolled)\n",
        "\n",
        "final_preds = SVM_rbf_model(X, y, \"rbf\", 0.001, 36, predict_LLE)\n",
        "\n",
        "print(\"Final Predictions are\")\n",
        "print(final_preds[2])"
      ],
      "metadata": {
        "id": "lwY-hN7OVmAD"
      },
      "execution_count": null,
      "outputs": []
    },
    {
      "cell_type": "code",
      "source": [
        "from google.colab import drive\n",
        "drive.mount('/content/drive')"
      ],
      "metadata": {
        "id": "3GoxLFKqfN9I"
      },
      "execution_count": null,
      "outputs": []
    },
    {
      "cell_type": "code",
      "source": [
        "len(data_correlated)"
      ],
      "metadata": {
        "id": "zCYcvQ1wa8Bn",
        "colab": {
          "base_uri": "https://localhost:8080/"
        },
        "outputId": "083400cf-2d7e-4cde-a8fb-61c96ccaada9"
      },
      "execution_count": null,
      "outputs": [
        {
          "output_type": "execute_result",
          "data": {
            "text/plain": [
              "21"
            ]
          },
          "metadata": {},
          "execution_count": 77
        }
      ]
    },
    {
      "cell_type": "code",
      "source": [
        "data_correlated_df2.columns"
      ],
      "metadata": {
        "id": "6QGRteYowlbc"
      },
      "execution_count": null,
      "outputs": []
    },
    {
      "cell_type": "code",
      "source": [
        "data_correlated_df2.to_csv('oPoints Per oAtt.csv')"
      ],
      "metadata": {
        "id": "H8i3fwbvS6Xl"
      },
      "execution_count": null,
      "outputs": []
    },
    {
      "cell_type": "code",
      "source": [
        "#Model: (PPG), Use Lasso and poly\n",
        "RLE_Model(X, y, \"Lasso\", predict_LLE) #7.7%, -3.6%, Lasso, .4, dfLLE, df_22, 2nd best\n",
        "SGD_model(X,y, 1e-3, 0.1, predict_LLE) #10.6%, -2.8%, .4, dfLLE, df_22\n",
        "GBR_model(X,y, .0001, 0.1, 100, predict_LLE)\n",
        "BR_model(X,y, predict_LLE) #12.7%, 7.5%, .4, dfLLE, df_22\n",
        "Keras_model(X, y, 200, 120, 60, 30, 25, 20)\n",
        "DTR_model(X,y, 100)\n",
        "SVM_model(X,y, 0) #0 default\n",
        "SVM_rbf_model(X, y, \"rbf\", .1, 100, predict_LLE) #.1; 100 default, 9.0%, -3%, .4, dfLLE, df_22\n",
        "SVM_rbf_model(X, y, \"poly\", .1, 100, predict_LLE) #.1; 100 default, .1, 200, 7.5%, -3.0%, .4, dfLLE, df_22, best"
      ],
      "metadata": {
        "id": "7LSkfJVdFcDD"
      },
      "execution_count": null,
      "outputs": []
    },
    {
      "cell_type": "code",
      "source": [
        "#Model: (Points/Att)\n",
        "RLE_Model(X, y, \"Lasso\", predict_LLE) #11.9%, 0.01%, .42, dfLLE, df_22\n",
        "SGD_model(X,y, 1e-3, 0.1, predict_LLE) #0.1 default,\n",
        "GBR_model(X,y, .0001, 0.1, 100, predict_LLE) #0.1 default\n",
        "BR_model(X,y, predict_LLE)\n",
        "Keras_model(X, y, 400, 210, 200, 190, 100, 36) #\n",
        "DTR_model(X,y, 100) #100 default\n",
        "SVM_model(X,y, 0), #13.1%, .8%, .42, dfLLE, df_22\n",
        "SVM_rbf_model(X, y, \"rbf\", .1, 100, predict_LLE) #.1; 100 default, 11.4%, -1.5%, .42, dfLLE, df_22\n",
        "SVM_rbf_model(X, y, \"poly\", .1, 100, predict_LLE) #11.5%, -1.4%, .42, dfLLE, df_22"
      ],
      "metadata": {
        "id": "fKha9wxY8KQs"
      },
      "execution_count": null,
      "outputs": []
    },
    {
      "cell_type": "code",
      "source": [
        "#Model: (Points/Pass Att)\n",
        "RLE_Model(X, y, \"Lasso\", predict_LLE)\n",
        "SGD_model(X,y, 1e-3, 0.1, predict_LLE) #0.1 default\n",
        "GBR_model(X,y, .0001, 0.1, 100, predict_LLE) #0.1 default\n",
        "BR_model(X,y, predict_LLE)\n",
        "Keras_model(X, y, 400, 210, 200, 190, 100, 36) #\n",
        "DTR_model(X,y, 100) #100 default\n",
        "SVM_model(X,y, 0) #0 default\n",
        "SVM_rbf_model(X, y, \"rbf\", .1, 100, predict_LLE) #.07; 200, 12.3%, -1.8%, .53, dfLLE, df_22\n",
        "SVM_rbf_model(X, y, \"poly\", .1, 100, predict_LLE) #.08; 50, 12.8%, -.8%, .53, dfLLE, df_22"
      ],
      "metadata": {
        "id": "AUmQA-L-UX5L"
      },
      "execution_count": null,
      "outputs": []
    },
    {
      "cell_type": "code",
      "source": [
        "#Model: (points allowed/GM)\n",
        "RLE_Model(X, y, \"Lasso\", predict_LLE) #\n",
        "SGD_model(X,y, 1e-3, 0.1, predict_LLE) #0.1 default, 1e-2, 14.6%, -0.5%, .53, dfLLE, df_22\n",
        "GBR_model(X,y, .0001, 0.1, 100, predict_LLE) #0.1 default\n",
        "BR_model(X,y, predict_LLE)\n",
        "Keras_model(X, y, 400, 210, 200, 190, 100, 36) #12.8%, -7.1%, .51, dfLLE, df_22\n",
        "DTR_model(X,y, 100) #100 default\n",
        "SVM_model(X,y, 0) #0 default\n",
        "SVM_rbf_model(X, y, \"rbf\", .1, 100, predict_LLE) #.1; 100 default, 14.6%, 7.1%, .53, dfLLE, df_22\n",
        "SVM_rbf_model(X, y, \"poly\", .1, 100, predict_LLE) #.1; 100 default"
      ],
      "metadata": {
        "id": "ymLi6sAiVARL"
      },
      "execution_count": null,
      "outputs": []
    },
    {
      "cell_type": "code",
      "source": [
        "#Model: (oPoints/oAtt)\n",
        "RLE_Model(X, y, \"Lasso\", predict_LLE) #\n",
        "SGD_model(X,y, 1e-3, 0.1, predict_LLE) #0.1 default,\n",
        "GBR_model(X,y, .0001, 0.1, 100, predict_LLE) #0.1 default\n",
        "BR_model(X,y, predict_LLE)\n",
        "Keras_model(X, y, 400, 210, 200, 190, 100, 31) #model8, 10.3%, 3.7%, .48, dfLLE, df_22\n",
        "DTR_model(X,y, 100) #100 default\n",
        "SVM_model(X,y, 0) #0 default\n",
        "SVM_rbf_model(X, y, \"rbf\", .001, 66, predict_LLE) #11.6%, 4.7%, .48, dfLLE, df_22\n",
        "SVM_rbf_model(X, y, \"poly\", .1, 100, predict_LLE) #.1; 100 default, 14.7%, -2%, .48, dfLLE, df_22"
      ],
      "metadata": {
        "id": "PvmNrlt09Bta"
      },
      "execution_count": null,
      "outputs": []
    },
    {
      "cell_type": "code",
      "source": [
        "#Model: (oPoints/oPass Att)\n",
        "RLE_Model(X, y, \"Lasso\", predict_LLE)#Lasso, 16.4%, 2.6%, .46\n",
        "SGD_model(X,y, 1e-3, 0.1, predict_LLE) #0.1 default\n",
        "GBR_model(X,y, .0001, 0.1, 100, predict_LLE) #0.1 default\n",
        "BR_model(X,y, predict_LLE)\n",
        "Keras_model(X, y, 400, 210, 200, 190, 100, 31) #\n",
        "DTR_model(X,y, 100) #100 default\n",
        "SVM_model(X,y, 0) #0 default, 15.8%, 2.3%, .46, dfLLE, df_22\n",
        "SVM_rbf_model(X, y, \"rbf\", .1, 100, predict_LLE) #\n",
        "SVM_rbf_model(X, y, \"poly\", .1, 100, predict_LLE) #.1; 100 default"
      ],
      "metadata": {
        "id": "X2dr66C-U7i8"
      },
      "execution_count": null,
      "outputs": []
    },
    {
      "cell_type": "code",
      "source": [
        "len(data_correlated)"
      ],
      "metadata": {
        "id": "vW0Gnxhr7Fah"
      },
      "execution_count": null,
      "outputs": []
    },
    {
      "cell_type": "code",
      "source": [
        "data_correlated_df2.columns"
      ],
      "metadata": {
        "id": "jKS4ZL8DJw5v"
      },
      "execution_count": null,
      "outputs": []
    },
    {
      "cell_type": "code",
      "source": [
        "len(dfLLE)"
      ],
      "metadata": {
        "id": "pQ6OCieYhbyp"
      },
      "execution_count": null,
      "outputs": []
    },
    {
      "cell_type": "code",
      "source": [
        "len(data_PCA)"
      ],
      "metadata": {
        "id": "p8SgF713kfIO"
      },
      "execution_count": null,
      "outputs": []
    },
    {
      "cell_type": "code",
      "source": [
        "#Check for collinearity\n",
        "import seaborn as sns\n",
        "#sns.pairplot(data_correlated_df2)\n",
        "\n",
        "corr = data_correlated_df2.corr()\n",
        "print(corr)"
      ],
      "metadata": {
        "id": "TyALuH9TPDdB"
      },
      "execution_count": null,
      "outputs": []
    },
    {
      "cell_type": "code",
      "source": [
        "#Get Pearson's correlation between 2 variables\n",
        "df_16.iloc[:,-3].corr(df_Playoffs_16.iloc[:,-2])"
      ],
      "metadata": {
        "id": "mmHqjfoXJx3W"
      },
      "execution_count": null,
      "outputs": []
    }
  ],
  "metadata": {
    "colab": {
      "provenance": []
    },
    "kernelspec": {
      "display_name": "Python 3",
      "name": "python3"
    },
    "language_info": {
      "name": "python"
    }
  },
  "nbformat": 4,
  "nbformat_minor": 0
}